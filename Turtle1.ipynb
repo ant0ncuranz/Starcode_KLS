{
  "nbformat": 4,
  "nbformat_minor": 0,
  "metadata": {
    "colab": {
      "provenance": []
    },
    "kernelspec": {
      "name": "python3",
      "display_name": "Python 3"
    },
    "language_info": {
      "name": "python"
    }
  },
  "cells": [
    {
      "cell_type": "markdown",
      "source": [
        "**PythonTurtle**\n",
        "\n",
        "Turtle ist ein Modul in Python, mit dem man zeichnen kann. Mit verschiedenen Befehlen kann man die Schildkröte bewegen, die dann immer eine Spur hinterlässt. Um das Turtle-Modul zu nutzen, muss es zuerst installiert werden."
      ],
      "metadata": {
        "id": "xS9K-RKkSF-W"
      }
    },
    {
      "cell_type": "code",
      "source": [
        "!pip3 install ColabTurtlePlus         # hier installieren wir das Turtle-Paket\n",
        "from ColabTurtlePlus.Turtle import *  # hier importieren wir das Turtle-Paket\n",
        "initializeTurtle()                    # hier initialisieren wir das Zeichenbrett\n",
        "shape(\"turtle\")                       # dadurch wird die Schildkröte angezeigt"
      ],
      "metadata": {
        "id": "FKMECUduSQsB"
      },
      "execution_count": null,
      "outputs": []
    },
    {
      "cell_type": "markdown",
      "source": [
        "Mit `initializeTurtle()` wird die Schildkröte erschaffen. Deshalb muss dieser Befehl immer ganz oben stehen.\n",
        "Die folgenden Befehle veranlassen, dass sich die Schildkröte um 100 Pixel nach vorne bewegt und sich dann um 60° dreht.\n",
        "\n"
      ],
      "metadata": {
        "id": "Exn-5Ah6SR5Y"
      }
    },
    {
      "cell_type": "code",
      "source": [
        "initializeTurtle()\n",
        "forward(100)\n",
        "left(60)"
      ],
      "metadata": {
        "id": "TU8AqZCuSaE4"
      },
      "execution_count": null,
      "outputs": []
    },
    {
      "cell_type": "markdown",
      "source": [
        "Damit und mit Schleifen können  viele geometrischen Objekte gezeichnet werden.\n",
        "Zum Beispiel n-Ecke, probiert es gerne aus!\n",
        "Dann kann noch die Farbe geändert werden und sein Kreis gezeichnet werden. Eine Liste von Farben ist hier zu finden https://matplotlib.org/stable/gallery/color/named_colors.html"
      ],
      "metadata": {
        "id": "ukP_01OFSvTT"
      }
    },
    {
      "cell_type": "code",
      "source": [
        "initializeTurtle()\n",
        "color(\"blue\")\n",
        "circle(100)"
      ],
      "metadata": {
        "id": "hSMC2ggYTAss"
      },
      "execution_count": null,
      "outputs": []
    },
    {
      "cell_type": "markdown",
      "source": [
        "Die Turtle kann an eine Position mit den Befehlen `setx()`, `sety()` und `setposition(x,y)`gesetzt werden, und die Position der Turtle wird erfragt mit `xcor()`, `ycor()`, `pos()`.\n",
        "Mit heading kann Ausrichtung der Turtle erfragt werden, und mit `seth(w)` gesetzt, wobei w in Grad angegeben wird und 0 Grad Osten, 90 Grad Norden,.. entspricht"
      ],
      "metadata": {
        "id": "YGWyctKMTb-p"
      }
    },
    {
      "cell_type": "markdown",
      "source": [
        "Mit begin_fill() und end_fill() können Figutren gezeichnet werden, die ausgefüllt werden."
      ],
      "metadata": {
        "id": "8DVlkxKWUHP7"
      }
    }
  ]
}