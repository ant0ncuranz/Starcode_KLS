{
  "nbformat": 4,
  "nbformat_minor": 0,
  "metadata": {
    "colab": {
      "provenance": []
    },
    "kernelspec": {
      "name": "python3",
      "display_name": "Python 3"
    },
    "language_info": {
      "name": "python"
    }
  },
  "cells": [
    {
      "cell_type": "markdown",
      "source": [
        "**Variablen**\n",
        "Um einen Wert speichern und immer wieder verwenden zu können im späteren Code, werden Variablen verwendet. Das Gleichheitszeichen ist hierbei eine Zuweisung, keine mathematische Gleichung. Das ist wichtig zu verstehen, da mathematische Gleichungen umgestellt werden können. Zuweisungen hingegen haben vor dem Gleichheitszeichen nur den Namen der Variable stehen."
      ],
      "metadata": {
        "id": "z9G8KcU4DNhn"
      }
    },
    {
      "cell_type": "code",
      "source": [
        "# erstelle eine Variable, die du definierst mit deiner Lieblingszahl"
      ],
      "metadata": {
        "id": "ghAjJ0smEk-u"
      },
      "execution_count": null,
      "outputs": []
    },
    {
      "cell_type": "markdown",
      "source": [
        "Variablen können auch mit anderen Variablen befüllt werden."
      ],
      "metadata": {
        "id": "7WIkI3rSE1ZA"
      }
    },
    {
      "cell_type": "code",
      "source": [
        "# definiere eine zweite Variable die ein Vielfaches der ersten Variable ist"
      ],
      "metadata": {
        "id": "qyWwcV6ME7Kg"
      },
      "execution_count": 1,
      "outputs": []
    },
    {
      "cell_type": "markdown",
      "source": [
        "**Variablennamen**\n",
        "Variablennamen können aus Buchstaben- und Zahlenkombinationen bestehen, zu beachten ist nur, dass der Name nicht mit einer Zahl anfangen darf. Groß- und Kleinschreibung wird berücksichtigt, die Variablen Haus und haus wären also zwei verschiedene."
      ],
      "metadata": {
        "id": "RUqGF2ozFFdk"
      }
    },
    {
      "cell_type": "markdown",
      "source": [
        "**verschiedene Datentypen**\n",
        "\n",
        "Daten können verschiedene Formen annehmen in Python. Je nachdem was ihr mit den Daten machen wollt, ist es wichtig den richtigen Datentyp zu verwenden.\n",
        "\n",
        "Zahlen\n",
        "---\n",
        "\n",
        "\n",
        "*   int beschreibt große ganze Zahlen (int = integers)\n",
        "*   float beschreibt Fließkommazahlen (float = floating point number)\n",
        "*   complex beschreibt komplexe Zahlen\n",
        "\n",
        "Zeichenketten\n",
        "---\n",
        "\n",
        "*   str beschreibt Zeichenketten wie zum Beispiel Wörter (str = string)\n",
        "\n",
        "Wahrheitswerte\n",
        "---\n",
        "*   bool lässt nur zwei Datentypen zu: false & true\n",
        "\n",
        "Test Datentyp\n",
        "---\n",
        "Mit der Funktion type () lässt sich herausfinden welcher Datentyp die Variable hat\n",
        "\n",
        "\n",
        "\n",
        "\n",
        "\n",
        "\n",
        "\n",
        "\n",
        "\n"
      ],
      "metadata": {
        "id": "-QgvUH-wF7uA"
      }
    },
    {
      "cell_type": "code",
      "source": [
        "#finde heraus welcher Datentyp deine Variablen hat"
      ],
      "metadata": {
        "id": "GH-vD1XYG2SG"
      },
      "execution_count": 3,
      "outputs": []
    },
    {
      "cell_type": "code",
      "source": [
        "#erstelle eine Variablen deren Datentypen str und float sind"
      ],
      "metadata": {
        "id": "zl1wkAEOJWLa"
      },
      "execution_count": null,
      "outputs": []
    },
    {
      "cell_type": "code",
      "source": [
        "#ändere den Datentyp deiner ersten Varibale"
      ],
      "metadata": {
        "id": "Sciw7gEEJmTp"
      },
      "execution_count": null,
      "outputs": []
    },
    {
      "cell_type": "markdown",
      "source": [
        "**Eingaben und Ausgaben**\n",
        "\n",
        "Mit dem Befehl print () können Variablen ausgegeben werden. Wenn in der Klammer die ' ' benutzt werden, wird dies nicht als Variable gelesen."
      ],
      "metadata": {
        "id": "_oDU-UD4JQiR"
      }
    },
    {
      "cell_type": "code",
      "source": [
        "#gebe deine erste Variable aus mit dem Kommentar, dass es deine Lieblingszahl ist"
      ],
      "metadata": {
        "id": "NdAAehNjKtLm"
      },
      "execution_count": null,
      "outputs": []
    },
    {
      "cell_type": "markdown",
      "source": [
        "Mit dem Befehl input () können die BenutzerInnen des Programms aufgefordert werden einen Wert einzugeben, mit dem weitergerechnet werden kann. Auch hier kann durch ' '  Kommentare hinzugefügt werden. Beachte: alle Eingaben bei der input-Funktion werden zunächst als string gespeichert."
      ],
      "metadata": {
        "id": "UUqybQOeK3G2"
      }
    },
    {
      "cell_type": "code",
      "source": [
        "#fordere deine BenutzerInnen auf ihre Lieblingszahl einzugeben und multipliziere diesen anschließend mit deiner eigenen Lieblingszahl"
      ],
      "metadata": {
        "id": "fKLZVdAGLc62"
      },
      "execution_count": null,
      "outputs": []
    },
    {
      "cell_type": "markdown",
      "source": [
        "**Rechenoperationen**\n",
        "\n",
        "\n",
        "*   Addition +\n",
        "*   Subtraktion -\n",
        "*   Multiplikation *\n",
        "*   Division /\n",
        "*   Potenz **\n",
        "*   Division mit Rest //\n",
        "*   Rest einer Division % (modulo)\n",
        "*   Betrag abs ()\n",
        "*   Maximum und Minimum max() und min ()\n",
        "*   Vergleich ==\n",
        "*   Ungleichheit !=\n",
        "*   größer gleich >=\n",
        "*   größer >\n",
        "\n",
        "\n",
        "\n",
        "Auch bei Python wird die Regel Punkt vor Strich berücksichtigt und alle Klammern primär berechnet.\n",
        "\n",
        "\n"
      ],
      "metadata": {
        "id": "QgLqrNzlMmsY"
      }
    },
    {
      "cell_type": "code",
      "source": [
        "#schreibe ein Programm, welches das Volumen eines Kegels berechnet. Wobei Radius und Höhe von den BenutzerInnen bestimmt werden darf."
      ],
      "metadata": {
        "id": "TbuaEN3sO5vj"
      },
      "execution_count": 6,
      "outputs": []
    },
    {
      "cell_type": "markdown",
      "source": [
        "**Schleifen**\n",
        "\n",
        "Häufig steht man beim Programmieren vor der Aufgabe, dass bestimmte Dinge nur unter bestimmten Bedingungen ausgeführt werden. Dafür gibt es die Schleifen. Hierfür werden die Bedingungen durch boolsche Variablen geprüft.\n",
        "\n",
        "if-Schleifen\n",
        "---\n",
        "Diese Schleifen werden verwendet, wenn die Befehle nur unter bestimmten Bedingungen ausgeführt werden soll. Wichtig zu beachten ist die Formatierung hierbei. Die Befehle, die nur bei Erfüllung der Bedingungen ausgeführt werden sollen, müssen eingerückt stehen nach der if-Bedingung. Die Bedingung muss mit einem Doppelpunkt abgeschlossen werden.\n"
      ],
      "metadata": {
        "id": "GTXyeJM8QgoJ"
      }
    },
    {
      "cell_type": "code",
      "source": [
        "# Frage die BenutzerInnen nach ihren Postleitzahlen und beantworte ihnen dann ob sie in Berlin wohnen oder in einer anderen deutschen Stadt"
      ],
      "metadata": {
        "id": "btXggJIETDdM"
      },
      "execution_count": null,
      "outputs": []
    },
    {
      "cell_type": "markdown",
      "source": [
        "if-else-Schleifen\n",
        "---\n",
        "wenn bei nicht Erfüllung der Bedingung eine andere Abfolge von Befehlen ausgeführt werden soll, sind die if-else-Schleifen praktisch.\n"
      ],
      "metadata": {
        "id": "QW-b8c3lTTIQ"
      }
    },
    {
      "cell_type": "code",
      "source": [
        "#Frage die BenutzerInnen nach einer Zahl und teile ihnen anschließend mit ob sie positiv oder negativ ist"
      ],
      "metadata": {
        "id": "2BdFpAG6T62k"
      },
      "execution_count": null,
      "outputs": []
    },
    {
      "cell_type": "markdown",
      "source": [
        "while-Schleifen\n",
        "---\n",
        "\n",
        "Bei while-Schleifen werden die Befehle so oft hintereinander ausgeführt bis die Bedingung nicht mehr erfüllt ist.\n",
        "\n"
      ],
      "metadata": {
        "id": "RpIz8MLvUutb"
      }
    },
    {
      "cell_type": "code",
      "source": [
        "#frage die BenutzerInnen nach einer natürlichen Zahl und lasse das Programm die Zahl solange halbieren bis keine natürliche Zahl mehr herauskommt"
      ],
      "metadata": {
        "id": "92bJFodGV3kh"
      },
      "execution_count": null,
      "outputs": []
    }
  ]
}