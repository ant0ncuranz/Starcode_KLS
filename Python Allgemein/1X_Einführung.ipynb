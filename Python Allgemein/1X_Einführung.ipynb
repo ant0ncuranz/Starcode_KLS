{
 "cells": [
  {
   "cell_type": "markdown",
   "id": "2654731e-17e3-4f3f-a411-6ed2fab33888",
   "metadata": {
    "id": "JqsEH2x-b8gq",
    "tags": []
   },
   "source": [
    "# **Python für Anfängerinnen** 💻\n",
    "\n",
    "Wilkommen im Kurs! <br>\n",
    "Heute werden wir uns gemeinsam die Programmiersprache Python angucken. Wir werden Variablen und Befehle kennenlernen und uns anschauen, wie man sie verwendet. Später werden wir außerdem mit der Python Turtle (Englisch für Schildkröte 🐢) geometrische Formen und Muster zeichnen."
   ]
  },
  {
   "cell_type": "markdown",
   "id": "a368176a-b6bc-452b-8fd8-d139ae510947",
   "metadata": {
    "id": "lEPw7IBLcAn-",
    "tags": []
   },
   "source": [
    "## **Python und Notebooks**\n",
    "Wir werden uns heute mit der Programmiersprache **Python** beschäftigen. Diese Sprache ist eine der meist verwendetsten Programmiersprachen. Man kann mit Python zum Beispiel Websites programmieren, Spiele entwickeln, Daten auswerten oder auch etwas zeichnen. <br>\n",
    "Wir werden mit Python in Notebooks wie diesem arbeiten.\n",
    "Jetzt wollen wir uns also erstmal mit Python und Notebooks vertraut machen!"
   ]
  },
  {
   "cell_type": "markdown",
   "id": "3e97cb04-72ab-44dc-920d-9e36ff26a291",
   "metadata": {},
   "source": [
    "Wichtig: Deine Änderungen gehen verloren, wenn du den Browser schließt. Du kannst den aktuellen Zustand aber im Menü unter `File > Download` oder `File > Save and Export Notebook as...` herunterladen."
   ]
  },
  {
   "cell_type": "markdown",
   "id": "3f6e2684-5d83-4223-a7ee-260e5913a170",
   "metadata": {
    "id": "azPSgildcYSQ",
    "tags": []
   },
   "source": [
    "# **print() 🖨**\n",
    "\n",
    "Und jetzt programmieren wir! <br>Mit dem Befehl `print()` kannst du das ausgeben, was du in die Klammern schreibst. <br> Vergiss nicht, den Playbutton `▶` oben in der Leiste zu klicken."
   ]
  },
  {
   "cell_type": "code",
   "execution_count": null,
   "id": "02aef345-1695-4e16-ae40-d616402b01c7",
   "metadata": {
    "colab": {
     "base_uri": "https://localhost:8080/"
    },
    "id": "052566cd-3531-444d-ba77-683b95cb0dab",
    "is_executing": true,
    "outputId": "72c7be3e-ae9b-4d7a-c4a7-6321c1bc6aef",
    "tags": []
   },
   "outputs": [],
   "source": []
  },
  {
   "cell_type": "markdown",
   "id": "75406bce-0c25-4bb2-b3db-0463278eb2f5",
   "metadata": {
    "id": "oARr2LzDbU5I",
    "tags": []
   },
   "source": [
    "# **Kommentare #**\n",
    "\n",
    "Wenn du in einem Codeblock etwas schreiben willst, das nicht ausgeführt werden soll, kannst du das mit einem Kommentar machen. \n",
    "Codezeilen mit einem **#** davor sind ein Kommentar. <br> Hier ein Beispiel:"
   ]
  },
  {
   "cell_type": "code",
   "execution_count": null,
   "id": "3d436883-5094-43d8-92e6-943cda55f9e7",
   "metadata": {
    "id": "jIfrq0-qbap4",
    "tags": []
   },
   "outputs": [],
   "source": []
  },
  {
   "cell_type": "markdown",
   "id": "df6fb02d-127d-4ecf-88a7-c7ecca74be0f",
   "metadata": {
    "id": "kfQwkRvbZo4s",
    "tags": []
   },
   "source": [
    "# **Arbeit sparen mit Variablen ⏭**\n",
    "\n",
    "Variablen sind wie Container oder eine Kiste mit einem Namen, den du selber bestimmen kannst. In diese kannst du dann etwas hineintun.<br>\n",
    "Zum Beispiel kannst du eine Variable `name` erstellen und deinen Namen darin speichern.\n",
    "Von nun an existiert diese Variable `name` und du kannst sie einfach aufrufen, anstatt immer wieder deinen Namen schreiben zu müssen."
   ]
  },
  {
   "cell_type": "code",
   "execution_count": null,
   "id": "5de4a48f-5478-4f44-b1bc-eefb9460c934",
   "metadata": {
    "id": "6mPUylnY4T0D",
    "tags": []
   },
   "outputs": [],
   "source": []
  },
  {
   "cell_type": "markdown",
   "id": "9996e1e6-24ad-4fdd-bb27-2aa1d64f0e26",
   "metadata": {
    "id": "0REPkLDx-oH-",
    "tags": []
   },
   "source": [
    "#### *Kleiner Hinweis*\n",
    "\n",
    "- **Variablennamen** haben keine Leerzeichen <br> z.B. `alter`, `mein_name`, `winkel2`\n",
    "- **Texte und Worte**, wie `Kira Müller` im Beispiel oben, nennt man *Strings* und werden in Anführungszeichen geschrieben.\n",
    "- **Zahlen** kannst du auch als Variablen abspeichern. Kommazahlen werden mit einem Punkt getrennt. <br> z.B. `42`, `6.3`, `-10`"
   ]
  },
  {
   "cell_type": "markdown",
   "id": "dead88cc-2967-472c-a8db-3b0176871fe1",
   "metadata": {
    "id": "0FNKwTeKFWoR"
   },
   "source": [
    "# **input()💬**\n",
    "\n",
    "Hast du schon einmal mit einem Computer gesprochen? Nun geht es darum, wie du mit Python sprechen kannst! Mit der `input()`-Funktion kannst du nämlich Informationen von Benutzerinnen und Benutzern abfragen und in deinem Programm verwenden. In den Klammern kann eine Beschreibung oder Aufforderung angegeben werden. <br>\n",
    "Beachte: alle Eingaben bei der input-Funktion werden zunächst als string gespeichert."
   ]
  },
  {
   "cell_type": "code",
   "execution_count": null,
   "id": "f3c0bcc6-828b-4c6c-8041-85ef878dd1b7",
   "metadata": {
    "id": "4nal2WgXEEoT",
    "tags": []
   },
   "outputs": [],
   "source": []
  },
  {
   "cell_type": "markdown",
   "id": "e2eed374-eeee-42f0-858a-114612851f96",
   "metadata": {
    "id": "QgLqrNzlMmsY",
    "tags": []
   },
   "source": [
    "# **Rechenoperationen**\n",
    "\n",
    "*   Addition +\n",
    "*   Subtraktion -\n",
    "*   Multiplikation *\n",
    "*   Division /\n",
    "*   Potenz **\n",
    "*   Division mit Rest //\n",
    "*   Rest einer Division % (modulo)\n",
    "*   Betrag abs()\n",
    "*   Maximum und Minimum max() und min()\n",
    "*   Vergleich ==\n",
    "*   Ungleichheit !=\n",
    "*   größer gleich >=\n",
    "*   größer >\n",
    "\n",
    "\n",
    "Auch bei Python wird die Regel Punkt vor Strich berücksichtigt und alle Klammern primär berechnet.\n"
   ]
  },
  {
   "cell_type": "code",
   "execution_count": null,
   "id": "c4e1c896-557d-4130-affa-cda1378ba347",
   "metadata": {
    "id": "TbuaEN3sO5vj",
    "tags": []
   },
   "outputs": [],
   "source": []
  }
 ],
 "metadata": {
  "kernelspec": {
   "display_name": "Python 3 (ipykernel)",
   "language": "python",
   "name": "python3"
  },
  "language_info": {
   "codemirror_mode": {
    "name": "ipython",
    "version": 3
   },
   "file_extension": ".py",
   "mimetype": "text/x-python",
   "name": "python",
   "nbconvert_exporter": "python",
   "pygments_lexer": "ipython3",
   "version": "3.10.12"
  }
 },
 "nbformat": 4,
 "nbformat_minor": 5
}
